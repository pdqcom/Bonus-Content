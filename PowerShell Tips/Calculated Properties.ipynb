{
  "cells": [
    {
      "cell_type": "markdown",
      "metadata": {},
      "source": [
        "# PowerShell: Select-Object with Calculated Properties\n",
        "\n",
        "Let's **combine properties from multiple objects** using `Select-Object` calculated properties.\n",
        "\n",
        "> Tip: In Jupyter, pick the **PowerShell** kernel (from .NET Interactive) for these cells to run.\n"
      ]
    },
    {
      "cell_type": "markdown",
      "metadata": {},
      "source": [
        "## 1) File owner + file info (Get-ChildItem + Get-Acl)\n",
        "Combine file metadata with the **owner** pulled from an ACL object."
      ]
    },
    {
      "cell_type": "code",
      "execution_count": null,
      "metadata": {},
      "outputs": [],
      "source": [
        "Get-ChildItem -Path . -File |\n",
        "    Select-Object Name, Length,\n",
        "        @{Name='Owner'; Expression = { (Get-Acl -Path $_.FullName).Owner }}"
      ]
    },
    {
      "cell_type": "markdown",
      "metadata": {},
      "source": [
        "## 2) Network connections + process metadata (Get-NetTCPConnection + Get-Process)\n",
        "Map each TCP connection to its owning process and show the process **name** and **CPU** time."
      ]
    },
    {
      "cell_type": "code",
      "execution_count": null,
      "metadata": {},
      "outputs": [],
      "source": [
        "$procs = Get-Process | Group-Object -Property Id -AsHashTable -AsString\n",
        "Get-NetTCPConnection -State Established |\n",
        "    Select-Object LocalAddress, LocalPort, RemoteAddress, RemotePort, OwningProcess,\n",
        "        @{Name='ProcessName'; Expression = { $procs[\"$($_.OwningProcess)\"].ProcessName }},\n",
        "        @{Name='CPU';         Expression = { $procs[\"$($_.OwningProcess)\"].CPU }}"
      ]
    },
    {
      "cell_type": "markdown",
      "metadata": {},
      "source": [
        "## 3) Network adapter + IP configuration (Get-NetAdapter + Get-NetIPConfiguration)\n",
        "Join adapter rows with IP details using the `InterfaceIndex`."
      ]
    },
    {
      "cell_type": "code",
      "execution_count": null,
      "metadata": {},
      "outputs": [],
      "source": [
        "$ipByIndex = Get-NetIPConfiguration | Group-Object -Property InterfaceIndex -AsHashTable\n",
        "Get-NetAdapter |\n",
        "    Select-Object Name, Status, MacAddress,\n",
        "        @{Name='IPv4'; Expression = { ($ipByIndex[$_.ifIndex].IPv4Address.IPAddress) -join ', ' }},\n",
        "        @{Name='IPv6'; Expression = { ($ipByIndex[$_.ifIndex].IPv6Address.IPAddress) -join ', ' }}"
      ]
    },
    {
      "cell_type": "markdown",
      "metadata": {},
      "source": [
        "## 4) ScheduledTask + ScheduledTaskInfo\n",
        "Each `ScheduledTask` has a matching `ScheduledTaskInfo`. Use a calculated property to fetch **LastRunTime** and **LastTaskResult**."
      ]
    },
    {
      "cell_type": "code",
      "execution_count": null,
      "metadata": {},
      "outputs": [],
      "source": [
        "Get-ScheduledTask |\n",
        "    Select-Object TaskName, State,\n",
        "        @{Name='LastRunTime';    Expression = { (Get-ScheduledTaskInfo -TaskName $_.TaskName).LastRunTime }},\n",
        "        @{Name='LastTaskResult'; Expression = { (Get-ScheduledTaskInfo -TaskName $_.TaskName).LastTaskResult }}"
      ]
    },
    {
      "cell_type": "markdown",
      "metadata": {},
      "source": [
        "## 5) Process + code signing info (Get-Process + Get-AuthenticodeSignature)\n",
        "Augment processes with the **Publisher** of the executable (if available)."
      ]
    },
    {
      "cell_type": "code",
      "execution_count": null,
      "metadata": {},
      "outputs": [],
      "source": [
        "Get-Process |\n",
        "    Select-Object Name, Id,\n",
        "        @{Name='Publisher'; Expression = {\n",
        "            if ($_.Path) {\n",
        "                try { (Get-AuthenticodeSignature -FilePath $_.Path).SignerCertificate.Subject }\n",
        "                catch { $null }\n",
        "            }\n",
        "        }}"
      ]
    },
    {
      "cell_type": "markdown",
      "metadata": {},
      "source": [
        "## 6) Service + owning process details (Get-Service + Get-Process)\n",
        "Enrich each service with details from its process (when available)."
      ]
    },
    {
      "cell_type": "code",
      "execution_count": null,
      "metadata": {},
      "outputs": [],
      "source": [
        "Get-Service |\n",
        "    ForEach-Object {\n",
        "        $p = Get-Process -Id $_.Id -ErrorAction SilentlyContinue\n",
        "        [pscustomobject]@{\n",
        "            Service   = $_.Name\n",
        "            Status    = $_.Status\n",
        "            PID       = $p.Id\n",
        "            CPU       = $p.CPU\n",
        "            StartTime = $p.StartTime\n",
        "        }\n",
        "    } |\n",
        "    Select-Object Service, Status, PID, CPU, StartTime"
      ]
    },
    {
      "cell_type": "markdown",
      "metadata": {},
      "source": [
        "---\n",
        "### Handy Patterns\n",
        "- **Lookup tables**: `Group-Object -AsHashTable` is perfect for fast joins in calculated properties.\n",
        "- **Per-row queries**: Call another cmdlet inside the expression to attach related info to each row.\n",
        "- **Formatting**: Use strings and `-f` formatting to present data cleanly.\n"
      ]
    }
  ],
  "metadata": {
    "kernelspec": {
      "display_name": "PowerShell",
      "name": "powershell"
    },
    "language_info": {
      "name": "powershell"
    }
  },
  "nbformat": 4,
  "nbformat_minor": 5
}
